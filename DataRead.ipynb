{
 "cells": [
  {
   "cell_type": "code",
   "execution_count": 1,
   "metadata": {},
   "outputs": [],
   "source": [
    "import datetime\n",
    "import pandas as pd\n",
    "import glob\n",
    "import numpy as np\n",
    "from sqlalchemy import create_engine\n",
    "from helper_functions import save_data, load_data"
   ]
  },
  {
   "cell_type": "markdown",
   "metadata": {},
   "source": [
    "## Reading the stations\n",
    "\n",
    "First load the file `stations.csv` to see what is inside. Therefore i loaded a stations file of the last month. Here a short description of the information inside:\n",
    "\n",
    "`uuid,name,brand,street,house_number,post_code,city,latitude,longitude, first_active, openingtimes_json`\n",
    "\n"
   ]
  },
  {
   "cell_type": "code",
   "execution_count": 2,
   "metadata": {},
   "outputs": [],
   "source": [
    "# change the directory as necessary\n",
    "stations_pd = pd.read_csv('e:/Working/sprit/stations.csv')"
   ]
  },
  {
   "cell_type": "code",
   "execution_count": 3,
   "metadata": {},
   "outputs": [
    {
     "data": {
      "text/html": [
       "<div>\n",
       "<style scoped>\n",
       "    .dataframe tbody tr th:only-of-type {\n",
       "        vertical-align: middle;\n",
       "    }\n",
       "\n",
       "    .dataframe tbody tr th {\n",
       "        vertical-align: top;\n",
       "    }\n",
       "\n",
       "    .dataframe thead th {\n",
       "        text-align: right;\n",
       "    }\n",
       "</style>\n",
       "<table border=\"1\" class=\"dataframe\">\n",
       "  <thead>\n",
       "    <tr style=\"text-align: right;\">\n",
       "      <th></th>\n",
       "      <th>uuid</th>\n",
       "      <th>name</th>\n",
       "      <th>brand</th>\n",
       "      <th>street</th>\n",
       "      <th>house_number</th>\n",
       "      <th>post_code</th>\n",
       "      <th>city</th>\n",
       "      <th>latitude</th>\n",
       "      <th>longitude</th>\n",
       "      <th>first_active</th>\n",
       "      <th>openingtimes_json</th>\n",
       "    </tr>\n",
       "  </thead>\n",
       "  <tbody>\n",
       "    <tr>\n",
       "      <th>0</th>\n",
       "      <td>ad812258-94e7-473d-aa80-d392f7532218</td>\n",
       "      <td>bft Bonn-Bad Godesberg</td>\n",
       "      <td>bft</td>\n",
       "      <td>Godesberger Allee</td>\n",
       "      <td>55</td>\n",
       "      <td>53175</td>\n",
       "      <td>Bonn</td>\n",
       "      <td>50.695100</td>\n",
       "      <td>7.142760</td>\n",
       "      <td>1970-01-01 01:00:00+01</td>\n",
       "      <td>{\"openingTimes\":[{\"applicable_days\":32,\"period...</td>\n",
       "    </tr>\n",
       "    <tr>\n",
       "      <th>1</th>\n",
       "      <td>44e2bdb7-13e3-4156-8576-8326cdd20459</td>\n",
       "      <td>bft Tankstelle</td>\n",
       "      <td>NaN</td>\n",
       "      <td>Schellengasse</td>\n",
       "      <td>53</td>\n",
       "      <td>36304</td>\n",
       "      <td>Alsfeld</td>\n",
       "      <td>50.752010</td>\n",
       "      <td>9.279039</td>\n",
       "      <td>1970-01-01 01:00:00+01</td>\n",
       "      <td>{\"openingTimes\":[{\"applicable_days\":63,\"period...</td>\n",
       "    </tr>\n",
       "    <tr>\n",
       "      <th>2</th>\n",
       "      <td>0e18d0d3-ed38-4e7f-a18e-507a78ad901d</td>\n",
       "      <td>OIL! Tankstelle München</td>\n",
       "      <td>OIL!</td>\n",
       "      <td>Eversbuschstraße 33</td>\n",
       "      <td>NaN</td>\n",
       "      <td>80999</td>\n",
       "      <td>München</td>\n",
       "      <td>48.180700</td>\n",
       "      <td>11.460900</td>\n",
       "      <td>1970-01-01 01:00:00+01</td>\n",
       "      <td>{\"openingTimes\":[{\"applicable_days\":63,\"period...</td>\n",
       "    </tr>\n",
       "    <tr>\n",
       "      <th>3</th>\n",
       "      <td>db0655ed-4b94-4c12-a75d-26b2d6a38759</td>\n",
       "      <td>AVIA Albstadt-Ebingen</td>\n",
       "      <td>AVIA</td>\n",
       "      <td>Lautlinger Str.</td>\n",
       "      <td>3</td>\n",
       "      <td>72458</td>\n",
       "      <td>Albstadt</td>\n",
       "      <td>48.212800</td>\n",
       "      <td>9.012450</td>\n",
       "      <td>2014-03-18 16:45:31+01</td>\n",
       "      <td>{\"openingTimes\":[{\"applicable_days\":63,\"period...</td>\n",
       "    </tr>\n",
       "    <tr>\n",
       "      <th>4</th>\n",
       "      <td>6a625a13-310c-43fb-8316-4e8027a54510</td>\n",
       "      <td>Aral Tankstelle</td>\n",
       "      <td>ARAL</td>\n",
       "      <td>Leipziger Straße</td>\n",
       "      <td>208</td>\n",
       "      <td>08058</td>\n",
       "      <td>Zwickau</td>\n",
       "      <td>50.742687</td>\n",
       "      <td>12.488169</td>\n",
       "      <td>2014-03-18 16:45:31+01</td>\n",
       "      <td>{}</td>\n",
       "    </tr>\n",
       "  </tbody>\n",
       "</table>\n",
       "</div>"
      ],
      "text/plain": [
       "                                   uuid                     name brand  \\\n",
       "0  ad812258-94e7-473d-aa80-d392f7532218   bft Bonn-Bad Godesberg   bft   \n",
       "1  44e2bdb7-13e3-4156-8576-8326cdd20459           bft Tankstelle   NaN   \n",
       "2  0e18d0d3-ed38-4e7f-a18e-507a78ad901d  OIL! Tankstelle München  OIL!   \n",
       "3  db0655ed-4b94-4c12-a75d-26b2d6a38759    AVIA Albstadt-Ebingen  AVIA   \n",
       "4  6a625a13-310c-43fb-8316-4e8027a54510          Aral Tankstelle  ARAL   \n",
       "\n",
       "                street house_number post_code      city   latitude  longitude  \\\n",
       "0    Godesberger Allee           55     53175      Bonn  50.695100   7.142760   \n",
       "1       Schellengasse            53     36304   Alsfeld  50.752010   9.279039   \n",
       "2  Eversbuschstraße 33          NaN     80999   München  48.180700  11.460900   \n",
       "3     Lautlinger Str.             3     72458  Albstadt  48.212800   9.012450   \n",
       "4     Leipziger Straße          208     08058   Zwickau  50.742687  12.488169   \n",
       "\n",
       "             first_active                                  openingtimes_json  \n",
       "0  1970-01-01 01:00:00+01  {\"openingTimes\":[{\"applicable_days\":32,\"period...  \n",
       "1  1970-01-01 01:00:00+01  {\"openingTimes\":[{\"applicable_days\":63,\"period...  \n",
       "2  1970-01-01 01:00:00+01  {\"openingTimes\":[{\"applicable_days\":63,\"period...  \n",
       "3  2014-03-18 16:45:31+01  {\"openingTimes\":[{\"applicable_days\":63,\"period...  \n",
       "4  2014-03-18 16:45:31+01                                                 {}  "
      ]
     },
     "execution_count": 3,
     "metadata": {},
     "output_type": "execute_result"
    }
   ],
   "source": [
    "stations_pd.head()"
   ]
  },
  {
   "cell_type": "code",
   "execution_count": 4,
   "metadata": {},
   "outputs": [
    {
     "data": {
      "text/plain": [
       "(15859, 11)"
      ]
     },
     "execution_count": 4,
     "metadata": {},
     "output_type": "execute_result"
    }
   ],
   "source": [
    "stations_pd.shape"
   ]
  },
  {
   "cell_type": "code",
   "execution_count": 5,
   "metadata": {},
   "outputs": [
    {
     "name": "stdout",
     "output_type": "stream",
     "text": [
      "<class 'pandas.core.frame.DataFrame'>\n",
      "RangeIndex: 15859 entries, 0 to 15858\n",
      "Data columns (total 11 columns):\n",
      "uuid                 15859 non-null object\n",
      "name                 15859 non-null object\n",
      "brand                15243 non-null object\n",
      "street               15856 non-null object\n",
      "house_number         12014 non-null object\n",
      "post_code            15856 non-null object\n",
      "city                 15855 non-null object\n",
      "latitude             15859 non-null float64\n",
      "longitude            15859 non-null float64\n",
      "first_active         15859 non-null object\n",
      "openingtimes_json    15859 non-null object\n",
      "dtypes: float64(2), object(9)\n",
      "memory usage: 1.3+ MB\n"
     ]
    }
   ],
   "source": [
    "stations_pd.info()"
   ]
  },
  {
   "cell_type": "code",
   "execution_count": 6,
   "metadata": {},
   "outputs": [],
   "source": [
    "# want to see all stations around zip-code 40xxx\n",
    "short_pd = stations_pd.dropna(subset=['post_code'])\n",
    "short_pd = short_pd[short_pd['post_code'].str.match(pat = '40\\d{3}')]"
   ]
  },
  {
   "cell_type": "markdown",
   "metadata": {},
   "source": [
    "## Reading Prices\n",
    "\n",
    "The prices are organized in folders for every year and month and is really big data (around 5 GB per year). Therefore i've build a function to load the Data per year and extract only a few data for stations in short_pd. The pricesxxx.csv are in the following format:\n",
    "\n",
    "`date,station_uuid,diesel,e5,e10,dieselchange,e5change,e10change`"
   ]
  },
  {
   "cell_type": "code",
   "execution_count": 7,
   "metadata": {},
   "outputs": [],
   "source": [
    "# let's read one file to see special cases or wrong data\n",
    "prices_tmp = pd.read_csv('e:Working/sprit/2015/01/2015-01-01-prices.csv', usecols=['date', 'station_uuid', 'diesel', 'e5', 'e10'])"
   ]
  },
  {
   "cell_type": "code",
   "execution_count": 8,
   "metadata": {},
   "outputs": [
    {
     "data": {
      "text/html": [
       "<div>\n",
       "<style scoped>\n",
       "    .dataframe tbody tr th:only-of-type {\n",
       "        vertical-align: middle;\n",
       "    }\n",
       "\n",
       "    .dataframe tbody tr th {\n",
       "        vertical-align: top;\n",
       "    }\n",
       "\n",
       "    .dataframe thead th {\n",
       "        text-align: right;\n",
       "    }\n",
       "</style>\n",
       "<table border=\"1\" class=\"dataframe\">\n",
       "  <thead>\n",
       "    <tr style=\"text-align: right;\">\n",
       "      <th></th>\n",
       "      <th>date</th>\n",
       "      <th>station_uuid</th>\n",
       "      <th>diesel</th>\n",
       "      <th>e5</th>\n",
       "      <th>e10</th>\n",
       "    </tr>\n",
       "  </thead>\n",
       "  <tbody>\n",
       "    <tr>\n",
       "      <th>0</th>\n",
       "      <td>2015-01-01 00:02:01+01</td>\n",
       "      <td>00060151-0001-4444-8888-acdc00000001</td>\n",
       "      <td>1.189</td>\n",
       "      <td>1.329</td>\n",
       "      <td>1.289</td>\n",
       "    </tr>\n",
       "    <tr>\n",
       "      <th>1</th>\n",
       "      <td>2015-01-01 00:02:01+01</td>\n",
       "      <td>005056ba-7cb6-1ed2-bceb-6e6ee17d4d20</td>\n",
       "      <td>1.179</td>\n",
       "      <td>1.319</td>\n",
       "      <td>1.279</td>\n",
       "    </tr>\n",
       "    <tr>\n",
       "      <th>2</th>\n",
       "      <td>2015-01-01 00:02:01+01</td>\n",
       "      <td>139897a8-a161-4f4c-b550-bca985affa38</td>\n",
       "      <td>1.159</td>\n",
       "      <td>1.299</td>\n",
       "      <td>1.259</td>\n",
       "    </tr>\n",
       "    <tr>\n",
       "      <th>3</th>\n",
       "      <td>2015-01-01 00:02:01+01</td>\n",
       "      <td>18aef2d2-ed53-44d2-9f7f-512f994593c2</td>\n",
       "      <td>1.219</td>\n",
       "      <td>1.359</td>\n",
       "      <td>1.319</td>\n",
       "    </tr>\n",
       "    <tr>\n",
       "      <th>4</th>\n",
       "      <td>2015-01-01 00:02:01+01</td>\n",
       "      <td>3e7c0f12-9665-40e2-7c70-d0dfb19314cd</td>\n",
       "      <td>1.229</td>\n",
       "      <td>1.369</td>\n",
       "      <td>1.329</td>\n",
       "    </tr>\n",
       "  </tbody>\n",
       "</table>\n",
       "</div>"
      ],
      "text/plain": [
       "                     date                          station_uuid  diesel  \\\n",
       "0  2015-01-01 00:02:01+01  00060151-0001-4444-8888-acdc00000001   1.189   \n",
       "1  2015-01-01 00:02:01+01  005056ba-7cb6-1ed2-bceb-6e6ee17d4d20   1.179   \n",
       "2  2015-01-01 00:02:01+01  139897a8-a161-4f4c-b550-bca985affa38   1.159   \n",
       "3  2015-01-01 00:02:01+01  18aef2d2-ed53-44d2-9f7f-512f994593c2   1.219   \n",
       "4  2015-01-01 00:02:01+01  3e7c0f12-9665-40e2-7c70-d0dfb19314cd   1.229   \n",
       "\n",
       "      e5    e10  \n",
       "0  1.329  1.289  \n",
       "1  1.319  1.279  \n",
       "2  1.299  1.259  \n",
       "3  1.359  1.319  \n",
       "4  1.369  1.329  "
      ]
     },
     "execution_count": 8,
     "metadata": {},
     "output_type": "execute_result"
    }
   ],
   "source": [
    "prices_tmp.head()"
   ]
  },
  {
   "cell_type": "code",
   "execution_count": 9,
   "metadata": {},
   "outputs": [
    {
     "data": {
      "text/html": [
       "<div>\n",
       "<style scoped>\n",
       "    .dataframe tbody tr th:only-of-type {\n",
       "        vertical-align: middle;\n",
       "    }\n",
       "\n",
       "    .dataframe tbody tr th {\n",
       "        vertical-align: top;\n",
       "    }\n",
       "\n",
       "    .dataframe thead th {\n",
       "        text-align: right;\n",
       "    }\n",
       "</style>\n",
       "<table border=\"1\" class=\"dataframe\">\n",
       "  <thead>\n",
       "    <tr style=\"text-align: right;\">\n",
       "      <th></th>\n",
       "      <th>diesel</th>\n",
       "      <th>e5</th>\n",
       "      <th>e10</th>\n",
       "    </tr>\n",
       "  </thead>\n",
       "  <tbody>\n",
       "    <tr>\n",
       "      <th>count</th>\n",
       "      <td>53868.000000</td>\n",
       "      <td>53868.000000</td>\n",
       "      <td>53868.000000</td>\n",
       "    </tr>\n",
       "    <tr>\n",
       "      <th>mean</th>\n",
       "      <td>1.181945</td>\n",
       "      <td>1.292544</td>\n",
       "      <td>1.256904</td>\n",
       "    </tr>\n",
       "    <tr>\n",
       "      <th>std</th>\n",
       "      <td>0.051318</td>\n",
       "      <td>0.221374</td>\n",
       "      <td>0.215966</td>\n",
       "    </tr>\n",
       "    <tr>\n",
       "      <th>min</th>\n",
       "      <td>-0.001000</td>\n",
       "      <td>-0.001000</td>\n",
       "      <td>-0.001000</td>\n",
       "    </tr>\n",
       "    <tr>\n",
       "      <th>25%</th>\n",
       "      <td>1.149000</td>\n",
       "      <td>1.289000</td>\n",
       "      <td>1.259000</td>\n",
       "    </tr>\n",
       "    <tr>\n",
       "      <th>50%</th>\n",
       "      <td>1.179000</td>\n",
       "      <td>1.329000</td>\n",
       "      <td>1.289000</td>\n",
       "    </tr>\n",
       "    <tr>\n",
       "      <th>75%</th>\n",
       "      <td>1.219000</td>\n",
       "      <td>1.359000</td>\n",
       "      <td>1.329000</td>\n",
       "    </tr>\n",
       "    <tr>\n",
       "      <th>max</th>\n",
       "      <td>2.015000</td>\n",
       "      <td>2.015000</td>\n",
       "      <td>2.015000</td>\n",
       "    </tr>\n",
       "  </tbody>\n",
       "</table>\n",
       "</div>"
      ],
      "text/plain": [
       "             diesel            e5           e10\n",
       "count  53868.000000  53868.000000  53868.000000\n",
       "mean       1.181945      1.292544      1.256904\n",
       "std        0.051318      0.221374      0.215966\n",
       "min       -0.001000     -0.001000     -0.001000\n",
       "25%        1.149000      1.289000      1.259000\n",
       "50%        1.179000      1.329000      1.289000\n",
       "75%        1.219000      1.359000      1.329000\n",
       "max        2.015000      2.015000      2.015000"
      ]
     },
     "execution_count": 9,
     "metadata": {},
     "output_type": "execute_result"
    }
   ],
   "source": [
    "prices_tmp.describe()"
   ]
  },
  {
   "cell_type": "code",
   "execution_count": 10,
   "metadata": {},
   "outputs": [
    {
     "data": {
      "text/html": [
       "<div>\n",
       "<style scoped>\n",
       "    .dataframe tbody tr th:only-of-type {\n",
       "        vertical-align: middle;\n",
       "    }\n",
       "\n",
       "    .dataframe tbody tr th {\n",
       "        vertical-align: top;\n",
       "    }\n",
       "\n",
       "    .dataframe thead th {\n",
       "        text-align: right;\n",
       "    }\n",
       "</style>\n",
       "<table border=\"1\" class=\"dataframe\">\n",
       "  <thead>\n",
       "    <tr style=\"text-align: right;\">\n",
       "      <th></th>\n",
       "      <th>diesel</th>\n",
       "      <th>e5</th>\n",
       "      <th>e10</th>\n",
       "    </tr>\n",
       "  </thead>\n",
       "  <tbody>\n",
       "    <tr>\n",
       "      <th>count</th>\n",
       "      <td>53853.000000</td>\n",
       "      <td>53853.000000</td>\n",
       "      <td>53853.000000</td>\n",
       "    </tr>\n",
       "    <tr>\n",
       "      <th>mean</th>\n",
       "      <td>1.182274</td>\n",
       "      <td>1.292632</td>\n",
       "      <td>1.256990</td>\n",
       "    </tr>\n",
       "    <tr>\n",
       "      <th>std</th>\n",
       "      <td>0.047381</td>\n",
       "      <td>0.221122</td>\n",
       "      <td>0.215722</td>\n",
       "    </tr>\n",
       "    <tr>\n",
       "      <th>min</th>\n",
       "      <td>1.009000</td>\n",
       "      <td>-0.001000</td>\n",
       "      <td>-0.001000</td>\n",
       "    </tr>\n",
       "    <tr>\n",
       "      <th>25%</th>\n",
       "      <td>1.149000</td>\n",
       "      <td>1.289000</td>\n",
       "      <td>1.259000</td>\n",
       "    </tr>\n",
       "    <tr>\n",
       "      <th>50%</th>\n",
       "      <td>1.179000</td>\n",
       "      <td>1.329000</td>\n",
       "      <td>1.289000</td>\n",
       "    </tr>\n",
       "    <tr>\n",
       "      <th>75%</th>\n",
       "      <td>1.219000</td>\n",
       "      <td>1.359000</td>\n",
       "      <td>1.329000</td>\n",
       "    </tr>\n",
       "    <tr>\n",
       "      <th>max</th>\n",
       "      <td>2.015000</td>\n",
       "      <td>2.015000</td>\n",
       "      <td>2.015000</td>\n",
       "    </tr>\n",
       "  </tbody>\n",
       "</table>\n",
       "</div>"
      ],
      "text/plain": [
       "             diesel            e5           e10\n",
       "count  53853.000000  53853.000000  53853.000000\n",
       "mean       1.182274      1.292632      1.256990\n",
       "std        0.047381      0.221122      0.215722\n",
       "min        1.009000     -0.001000     -0.001000\n",
       "25%        1.149000      1.289000      1.259000\n",
       "50%        1.179000      1.329000      1.289000\n",
       "75%        1.219000      1.359000      1.329000\n",
       "max        2.015000      2.015000      2.015000"
      ]
     },
     "execution_count": 10,
     "metadata": {},
     "output_type": "execute_result"
    }
   ],
   "source": [
    "prices_tmp[~(prices_tmp.diesel < 0.5)].describe()"
   ]
  },
  {
   "cell_type": "markdown",
   "metadata": {},
   "source": [
    "Min Price of -0.001 is not a real value, so i will replace it with np.nan. Furthermor 2.015 € for all types are max? Let's have a look at this also..."
   ]
  },
  {
   "cell_type": "code",
   "execution_count": 11,
   "metadata": {},
   "outputs": [
    {
     "data": {
      "text/html": [
       "<div>\n",
       "<style scoped>\n",
       "    .dataframe tbody tr th:only-of-type {\n",
       "        vertical-align: middle;\n",
       "    }\n",
       "\n",
       "    .dataframe tbody tr th {\n",
       "        vertical-align: top;\n",
       "    }\n",
       "\n",
       "    .dataframe thead th {\n",
       "        text-align: right;\n",
       "    }\n",
       "</style>\n",
       "<table border=\"1\" class=\"dataframe\">\n",
       "  <thead>\n",
       "    <tr style=\"text-align: right;\">\n",
       "      <th></th>\n",
       "      <th>date</th>\n",
       "      <th>station_uuid</th>\n",
       "      <th>diesel</th>\n",
       "      <th>e5</th>\n",
       "      <th>e10</th>\n",
       "    </tr>\n",
       "  </thead>\n",
       "  <tbody>\n",
       "    <tr>\n",
       "      <th>24</th>\n",
       "      <td>2015-01-01 00:06:01+01</td>\n",
       "      <td>42d6d4cc-6909-45fc-f60f-a1abd9ea1f0e</td>\n",
       "      <td>2.015</td>\n",
       "      <td>2.015</td>\n",
       "      <td>2.015</td>\n",
       "    </tr>\n",
       "  </tbody>\n",
       "</table>\n",
       "</div>"
      ],
      "text/plain": [
       "                      date                          station_uuid  diesel  \\\n",
       "24  2015-01-01 00:06:01+01  42d6d4cc-6909-45fc-f60f-a1abd9ea1f0e   2.015   \n",
       "\n",
       "       e5    e10  \n",
       "24  2.015  2.015  "
      ]
     },
     "execution_count": 11,
     "metadata": {},
     "output_type": "execute_result"
    }
   ],
   "source": [
    "prices_tmp[prices_tmp.diesel > 1.70].head()"
   ]
  },
  {
   "cell_type": "code",
   "execution_count": 12,
   "metadata": {},
   "outputs": [
    {
     "data": {
      "text/html": [
       "<div>\n",
       "<style scoped>\n",
       "    .dataframe tbody tr th:only-of-type {\n",
       "        vertical-align: middle;\n",
       "    }\n",
       "\n",
       "    .dataframe tbody tr th {\n",
       "        vertical-align: top;\n",
       "    }\n",
       "\n",
       "    .dataframe thead th {\n",
       "        text-align: right;\n",
       "    }\n",
       "</style>\n",
       "<table border=\"1\" class=\"dataframe\">\n",
       "  <thead>\n",
       "    <tr style=\"text-align: right;\">\n",
       "      <th></th>\n",
       "      <th>date</th>\n",
       "      <th>station_uuid</th>\n",
       "      <th>diesel</th>\n",
       "      <th>e5</th>\n",
       "      <th>e10</th>\n",
       "    </tr>\n",
       "  </thead>\n",
       "  <tbody>\n",
       "    <tr>\n",
       "      <th>24</th>\n",
       "      <td>2015-01-01 00:06:01+01</td>\n",
       "      <td>42d6d4cc-6909-45fc-f60f-a1abd9ea1f0e</td>\n",
       "      <td>2.015</td>\n",
       "      <td>2.015</td>\n",
       "      <td>2.015</td>\n",
       "    </tr>\n",
       "  </tbody>\n",
       "</table>\n",
       "</div>"
      ],
      "text/plain": [
       "                      date                          station_uuid  diesel  \\\n",
       "24  2015-01-01 00:06:01+01  42d6d4cc-6909-45fc-f60f-a1abd9ea1f0e   2.015   \n",
       "\n",
       "       e5    e10  \n",
       "24  2.015  2.015  "
      ]
     },
     "execution_count": 12,
     "metadata": {},
     "output_type": "execute_result"
    }
   ],
   "source": [
    "prices_tmp[prices_tmp['station_uuid'] == '42d6d4cc-6909-45fc-f60f-a1abd9ea1f0e']"
   ]
  },
  {
   "cell_type": "markdown",
   "metadata": {},
   "source": [
    "It seems like this station has made an joke for new year ;-) This dataset will be removed later, after all prices are read. "
   ]
  },
  {
   "cell_type": "code",
   "execution_count": 13,
   "metadata": {},
   "outputs": [],
   "source": [
    "# let's read another file to see special cases or wrong data\n",
    "prices_tmp = pd.read_csv('e:Working/sprit/2016/01/2016-01-01-prices.csv', usecols=['date', 'station_uuid', 'diesel', 'e5', 'e10'])"
   ]
  },
  {
   "cell_type": "code",
   "execution_count": 14,
   "metadata": {},
   "outputs": [
    {
     "data": {
      "text/html": [
       "<div>\n",
       "<style scoped>\n",
       "    .dataframe tbody tr th:only-of-type {\n",
       "        vertical-align: middle;\n",
       "    }\n",
       "\n",
       "    .dataframe tbody tr th {\n",
       "        vertical-align: top;\n",
       "    }\n",
       "\n",
       "    .dataframe thead th {\n",
       "        text-align: right;\n",
       "    }\n",
       "</style>\n",
       "<table border=\"1\" class=\"dataframe\">\n",
       "  <thead>\n",
       "    <tr style=\"text-align: right;\">\n",
       "      <th></th>\n",
       "      <th>diesel</th>\n",
       "      <th>e5</th>\n",
       "      <th>e10</th>\n",
       "    </tr>\n",
       "  </thead>\n",
       "  <tbody>\n",
       "    <tr>\n",
       "      <th>count</th>\n",
       "      <td>85708.000000</td>\n",
       "      <td>85708.000000</td>\n",
       "      <td>85708.000000</td>\n",
       "    </tr>\n",
       "    <tr>\n",
       "      <th>mean</th>\n",
       "      <td>1.034316</td>\n",
       "      <td>1.256426</td>\n",
       "      <td>1.236780</td>\n",
       "    </tr>\n",
       "    <tr>\n",
       "      <th>std</th>\n",
       "      <td>0.053128</td>\n",
       "      <td>0.209600</td>\n",
       "      <td>0.207974</td>\n",
       "    </tr>\n",
       "    <tr>\n",
       "      <th>min</th>\n",
       "      <td>-0.001000</td>\n",
       "      <td>-0.001000</td>\n",
       "      <td>-0.001000</td>\n",
       "    </tr>\n",
       "    <tr>\n",
       "      <th>25%</th>\n",
       "      <td>0.999000</td>\n",
       "      <td>1.249000</td>\n",
       "      <td>1.229000</td>\n",
       "    </tr>\n",
       "    <tr>\n",
       "      <th>50%</th>\n",
       "      <td>1.029000</td>\n",
       "      <td>1.279000</td>\n",
       "      <td>1.259000</td>\n",
       "    </tr>\n",
       "    <tr>\n",
       "      <th>75%</th>\n",
       "      <td>1.059000</td>\n",
       "      <td>1.309000</td>\n",
       "      <td>1.289000</td>\n",
       "    </tr>\n",
       "    <tr>\n",
       "      <th>max</th>\n",
       "      <td>2.028000</td>\n",
       "      <td>1.619000</td>\n",
       "      <td>2.000000</td>\n",
       "    </tr>\n",
       "  </tbody>\n",
       "</table>\n",
       "</div>"
      ],
      "text/plain": [
       "             diesel            e5           e10\n",
       "count  85708.000000  85708.000000  85708.000000\n",
       "mean       1.034316      1.256426      1.236780\n",
       "std        0.053128      0.209600      0.207974\n",
       "min       -0.001000     -0.001000     -0.001000\n",
       "25%        0.999000      1.249000      1.229000\n",
       "50%        1.029000      1.279000      1.259000\n",
       "75%        1.059000      1.309000      1.289000\n",
       "max        2.028000      1.619000      2.000000"
      ]
     },
     "execution_count": 14,
     "metadata": {},
     "output_type": "execute_result"
    }
   ],
   "source": [
    "prices_tmp.describe()"
   ]
  },
  {
   "cell_type": "code",
   "execution_count": 15,
   "metadata": {},
   "outputs": [
    {
     "data": {
      "text/html": [
       "<div>\n",
       "<style scoped>\n",
       "    .dataframe tbody tr th:only-of-type {\n",
       "        vertical-align: middle;\n",
       "    }\n",
       "\n",
       "    .dataframe tbody tr th {\n",
       "        vertical-align: top;\n",
       "    }\n",
       "\n",
       "    .dataframe thead th {\n",
       "        text-align: right;\n",
       "    }\n",
       "</style>\n",
       "<table border=\"1\" class=\"dataframe\">\n",
       "  <thead>\n",
       "    <tr style=\"text-align: right;\">\n",
       "      <th></th>\n",
       "      <th>diesel</th>\n",
       "      <th>e5</th>\n",
       "      <th>e10</th>\n",
       "    </tr>\n",
       "  </thead>\n",
       "  <tbody>\n",
       "    <tr>\n",
       "      <th>count</th>\n",
       "      <td>85691.000000</td>\n",
       "      <td>85691.000000</td>\n",
       "      <td>85691.000000</td>\n",
       "    </tr>\n",
       "    <tr>\n",
       "      <th>mean</th>\n",
       "      <td>1.034498</td>\n",
       "      <td>1.256527</td>\n",
       "      <td>1.236836</td>\n",
       "    </tr>\n",
       "    <tr>\n",
       "      <th>std</th>\n",
       "      <td>0.051106</td>\n",
       "      <td>0.209312</td>\n",
       "      <td>0.207822</td>\n",
       "    </tr>\n",
       "    <tr>\n",
       "      <th>min</th>\n",
       "      <td>0.908000</td>\n",
       "      <td>-0.001000</td>\n",
       "      <td>-0.001000</td>\n",
       "    </tr>\n",
       "    <tr>\n",
       "      <th>25%</th>\n",
       "      <td>0.999000</td>\n",
       "      <td>1.249000</td>\n",
       "      <td>1.229000</td>\n",
       "    </tr>\n",
       "    <tr>\n",
       "      <th>50%</th>\n",
       "      <td>1.029000</td>\n",
       "      <td>1.279000</td>\n",
       "      <td>1.259000</td>\n",
       "    </tr>\n",
       "    <tr>\n",
       "      <th>75%</th>\n",
       "      <td>1.059000</td>\n",
       "      <td>1.309000</td>\n",
       "      <td>1.289000</td>\n",
       "    </tr>\n",
       "    <tr>\n",
       "      <th>max</th>\n",
       "      <td>1.269000</td>\n",
       "      <td>1.619000</td>\n",
       "      <td>2.000000</td>\n",
       "    </tr>\n",
       "  </tbody>\n",
       "</table>\n",
       "</div>"
      ],
      "text/plain": [
       "             diesel            e5           e10\n",
       "count  85691.000000  85691.000000  85691.000000\n",
       "mean       1.034498      1.256527      1.236836\n",
       "std        0.051106      0.209312      0.207822\n",
       "min        0.908000     -0.001000     -0.001000\n",
       "25%        0.999000      1.249000      1.229000\n",
       "50%        1.029000      1.279000      1.259000\n",
       "75%        1.059000      1.309000      1.289000\n",
       "max        1.269000      1.619000      2.000000"
      ]
     },
     "execution_count": 15,
     "metadata": {},
     "output_type": "execute_result"
    }
   ],
   "source": [
    "prices_tmp[(prices_tmp.diesel <= 1.70) & (prices_tmp.diesel > 0.5)].describe()"
   ]
  },
  {
   "cell_type": "markdown",
   "metadata": {},
   "source": [
    "### Reading and cleaning data\n",
    "\n",
    "In the above examples i've found some wrong data in this two files. After reading the whole dataset i'll have a look on the statistics to see what can be dropped."
   ]
  },
  {
   "cell_type": "code",
   "execution_count": 16,
   "metadata": {},
   "outputs": [],
   "source": [
    "\n",
    "def read_data_year(year, filepath):\n",
    "    '''\n",
    "    read all relevant data for year x\n",
    "    Input: year, filepath with \n",
    "    Output: dataframe with all prices for region 40x and year\n",
    "    '''\n",
    "    print('Read year {}'.format(year))\n",
    "    \n",
    "    files = glob.glob('{}{}/*/*'.format(filepath, year))\n",
    "    prices = [pd.read_csv(file, usecols=['date', 'station_uuid', 'diesel', 'e5', 'e10']) for file in files]\n",
    "    prices_pd = pd.concat(prices, sort=False)\n",
    "    data_pd = prices_pd[prices_pd['station_uuid'].isin(short_pd['uuid'])][['date', 'station_uuid', 'diesel', 'e5', 'e10']]\n",
    "    return data_pd\n",
    "\n",
    "def read_data(filepath='e:/Working/sprit/'):\n",
    "    '''\n",
    "    read all data and make some conversions\n",
    "    Input: filepath to input files, default is given\n",
    "    Output: dataframe with datetimeindex and station_uuid as category\n",
    "    '''\n",
    "    prices = read_data_year('2015', filepath)\n",
    "    prices = prices.append(read_data_year('2016', filepath))\n",
    "    prices = prices.append(read_data_year('2017', filepath))\n",
    "    prices = prices.append(read_data_year('2018', filepath))\n",
    "    prices = prices.append(read_data_year('2019', filepath))\n",
    "\n",
    "    # replace wrong data (<0.5 here for small) with nan \n",
    "    prices['diesel'] = prices['diesel'].apply(lambda x: np.nan if x < 0.5 else x)\n",
    "    prices['e5'] = prices['e5'].apply(lambda x: np.nan if x < 0.5 else x)\n",
    "    prices['e10'] = prices['e10'].apply(lambda x: np.nan if x < 0.5 else x)\n",
    "    prices.station_uuid = prices.station_uuid.astype('category')\n",
    "    prices.date = pd.to_datetime(prices.date, utc=True)\n",
    "    return prices"
   ]
  },
  {
   "cell_type": "code",
   "execution_count": 17,
   "metadata": {},
   "outputs": [
    {
     "name": "stdout",
     "output_type": "stream",
     "text": [
      "Read year 2015\n",
      "Read year 2016\n",
      "Read year 2017\n",
      "Read year 2018\n",
      "Read year 2019\n"
     ]
    }
   ],
   "source": [
    "# Reading of all relevant data\n",
    "prices_pd = read_data()"
   ]
  },
  {
   "cell_type": "code",
   "execution_count": 18,
   "metadata": {},
   "outputs": [
    {
     "name": "stdout",
     "output_type": "stream",
     "text": [
      "<class 'pandas.core.frame.DataFrame'>\n",
      "Int64Index: 2677793 entries, 74 to 248042\n",
      "Data columns (total 5 columns):\n",
      "date            datetime64[ns, UTC]\n",
      "station_uuid    category\n",
      "diesel          float64\n",
      "e5              float64\n",
      "e10             float64\n",
      "dtypes: category(1), datetime64[ns, UTC](1), float64(3)\n",
      "memory usage: 107.3 MB\n"
     ]
    }
   ],
   "source": [
    "prices_pd.info()"
   ]
  },
  {
   "cell_type": "code",
   "execution_count": 19,
   "metadata": {},
   "outputs": [
    {
     "data": {
      "text/html": [
       "<div>\n",
       "<style scoped>\n",
       "    .dataframe tbody tr th:only-of-type {\n",
       "        vertical-align: middle;\n",
       "    }\n",
       "\n",
       "    .dataframe tbody tr th {\n",
       "        vertical-align: top;\n",
       "    }\n",
       "\n",
       "    .dataframe thead th {\n",
       "        text-align: right;\n",
       "    }\n",
       "</style>\n",
       "<table border=\"1\" class=\"dataframe\">\n",
       "  <thead>\n",
       "    <tr style=\"text-align: right;\">\n",
       "      <th></th>\n",
       "      <th>diesel</th>\n",
       "      <th>e5</th>\n",
       "      <th>e10</th>\n",
       "    </tr>\n",
       "  </thead>\n",
       "  <tbody>\n",
       "    <tr>\n",
       "      <th>count</th>\n",
       "      <td>2.676682e+06</td>\n",
       "      <td>2.674904e+06</td>\n",
       "      <td>2.654523e+06</td>\n",
       "    </tr>\n",
       "    <tr>\n",
       "      <th>mean</th>\n",
       "      <td>1.193693e+00</td>\n",
       "      <td>1.387779e+00</td>\n",
       "      <td>1.363561e+00</td>\n",
       "    </tr>\n",
       "    <tr>\n",
       "      <th>std</th>\n",
       "      <td>9.971780e-02</td>\n",
       "      <td>8.483290e-02</td>\n",
       "      <td>8.389918e-02</td>\n",
       "    </tr>\n",
       "    <tr>\n",
       "      <th>min</th>\n",
       "      <td>8.790000e-01</td>\n",
       "      <td>9.090000e-01</td>\n",
       "      <td>1.029000e+00</td>\n",
       "    </tr>\n",
       "    <tr>\n",
       "      <th>25%</th>\n",
       "      <td>1.129000e+00</td>\n",
       "      <td>1.329000e+00</td>\n",
       "      <td>1.309000e+00</td>\n",
       "    </tr>\n",
       "    <tr>\n",
       "      <th>50%</th>\n",
       "      <td>1.199000e+00</td>\n",
       "      <td>1.379000e+00</td>\n",
       "      <td>1.359000e+00</td>\n",
       "    </tr>\n",
       "    <tr>\n",
       "      <th>75%</th>\n",
       "      <td>1.259000e+00</td>\n",
       "      <td>1.449000e+00</td>\n",
       "      <td>1.429000e+00</td>\n",
       "    </tr>\n",
       "    <tr>\n",
       "      <th>max</th>\n",
       "      <td>8.888000e+00</td>\n",
       "      <td>2.918000e+00</td>\n",
       "      <td>2.878000e+00</td>\n",
       "    </tr>\n",
       "  </tbody>\n",
       "</table>\n",
       "</div>"
      ],
      "text/plain": [
       "             diesel            e5           e10\n",
       "count  2.676682e+06  2.674904e+06  2.654523e+06\n",
       "mean   1.193693e+00  1.387779e+00  1.363561e+00\n",
       "std    9.971780e-02  8.483290e-02  8.389918e-02\n",
       "min    8.790000e-01  9.090000e-01  1.029000e+00\n",
       "25%    1.129000e+00  1.329000e+00  1.309000e+00\n",
       "50%    1.199000e+00  1.379000e+00  1.359000e+00\n",
       "75%    1.259000e+00  1.449000e+00  1.429000e+00\n",
       "max    8.888000e+00  2.918000e+00  2.878000e+00"
      ]
     },
     "execution_count": 19,
     "metadata": {},
     "output_type": "execute_result"
    }
   ],
   "source": [
    "prices_pd.describe()"
   ]
  },
  {
   "cell_type": "markdown",
   "metadata": {},
   "source": [
    "The max values of the fuel types differs too much from the 75% percentile, the values are probable not useful. Let's see which values we can set to NaN. I'll found from looking into the data following values useful."
   ]
  },
  {
   "cell_type": "code",
   "execution_count": 20,
   "metadata": {},
   "outputs": [
    {
     "data": {
      "text/html": [
       "<div>\n",
       "<style scoped>\n",
       "    .dataframe tbody tr th:only-of-type {\n",
       "        vertical-align: middle;\n",
       "    }\n",
       "\n",
       "    .dataframe tbody tr th {\n",
       "        vertical-align: top;\n",
       "    }\n",
       "\n",
       "    .dataframe thead th {\n",
       "        text-align: right;\n",
       "    }\n",
       "</style>\n",
       "<table border=\"1\" class=\"dataframe\">\n",
       "  <thead>\n",
       "    <tr style=\"text-align: right;\">\n",
       "      <th></th>\n",
       "      <th>date</th>\n",
       "      <th>station_uuid</th>\n",
       "      <th>diesel</th>\n",
       "      <th>e5</th>\n",
       "      <th>e10</th>\n",
       "    </tr>\n",
       "  </thead>\n",
       "  <tbody>\n",
       "    <tr>\n",
       "      <th>36871</th>\n",
       "      <td>2015-04-26 12:46:01+00:00</td>\n",
       "      <td>005056ba-7cb6-1ed2-bceb-7e82e4910d2a</td>\n",
       "      <td>2.458</td>\n",
       "      <td>2.918</td>\n",
       "      <td>2.878</td>\n",
       "    </tr>\n",
       "    <tr>\n",
       "      <th>30833</th>\n",
       "      <td>2015-07-16 08:06:01+00:00</td>\n",
       "      <td>ee34d5a4-be1a-2a3a-e040-0b0a3dfe5d3f</td>\n",
       "      <td>8.888</td>\n",
       "      <td>1.469</td>\n",
       "      <td>1.449</td>\n",
       "    </tr>\n",
       "    <tr>\n",
       "      <th>33012</th>\n",
       "      <td>2015-07-16 08:26:01+00:00</td>\n",
       "      <td>ee34d5a4-be1a-2a3a-e040-0b0a3dfe5d3f</td>\n",
       "      <td>8.888</td>\n",
       "      <td>1.429</td>\n",
       "      <td>1.409</td>\n",
       "    </tr>\n",
       "    <tr>\n",
       "      <th>55772</th>\n",
       "      <td>2015-07-16 10:42:01+00:00</td>\n",
       "      <td>ee34d5a4-be1a-2a3a-e040-0b0a3dfe5d3f</td>\n",
       "      <td>8.888</td>\n",
       "      <td>1.459</td>\n",
       "      <td>1.439</td>\n",
       "    </tr>\n",
       "    <tr>\n",
       "      <th>8513</th>\n",
       "      <td>2016-02-08 05:34:01+00:00</td>\n",
       "      <td>67765d63-fec8-4545-9c09-940ea88a8566</td>\n",
       "      <td>1.979</td>\n",
       "      <td>1.239</td>\n",
       "      <td>1.219</td>\n",
       "    </tr>\n",
       "    <tr>\n",
       "      <th>116369</th>\n",
       "      <td>2019-03-25 13:41:06+00:00</td>\n",
       "      <td>b253485f-535c-4554-ba4e-9c2c7093b8cc</td>\n",
       "      <td>1.999</td>\n",
       "      <td>1.339</td>\n",
       "      <td>1.319</td>\n",
       "    </tr>\n",
       "    <tr>\n",
       "      <th>181207</th>\n",
       "      <td>2019-04-13 15:51:06+00:00</td>\n",
       "      <td>b253485f-535c-4554-ba4e-9c2c7093b8cc</td>\n",
       "      <td>1.999</td>\n",
       "      <td>1.399</td>\n",
       "      <td>1.379</td>\n",
       "    </tr>\n",
       "    <tr>\n",
       "      <th>46421</th>\n",
       "      <td>2019-08-02 06:53:05+00:00</td>\n",
       "      <td>09ee977e-c04e-4db1-98bf-b507b123423c</td>\n",
       "      <td>1.999</td>\n",
       "      <td>1.399</td>\n",
       "      <td>1.379</td>\n",
       "    </tr>\n",
       "    <tr>\n",
       "      <th>51459</th>\n",
       "      <td>2019-11-05 08:05:04+00:00</td>\n",
       "      <td>b253485f-535c-4554-ba4e-9c2c7093b8cc</td>\n",
       "      <td>1.779</td>\n",
       "      <td>1.339</td>\n",
       "      <td>1.319</td>\n",
       "    </tr>\n",
       "  </tbody>\n",
       "</table>\n",
       "</div>"
      ],
      "text/plain": [
       "                            date                          station_uuid  \\\n",
       "36871  2015-04-26 12:46:01+00:00  005056ba-7cb6-1ed2-bceb-7e82e4910d2a   \n",
       "30833  2015-07-16 08:06:01+00:00  ee34d5a4-be1a-2a3a-e040-0b0a3dfe5d3f   \n",
       "33012  2015-07-16 08:26:01+00:00  ee34d5a4-be1a-2a3a-e040-0b0a3dfe5d3f   \n",
       "55772  2015-07-16 10:42:01+00:00  ee34d5a4-be1a-2a3a-e040-0b0a3dfe5d3f   \n",
       "8513   2016-02-08 05:34:01+00:00  67765d63-fec8-4545-9c09-940ea88a8566   \n",
       "116369 2019-03-25 13:41:06+00:00  b253485f-535c-4554-ba4e-9c2c7093b8cc   \n",
       "181207 2019-04-13 15:51:06+00:00  b253485f-535c-4554-ba4e-9c2c7093b8cc   \n",
       "46421  2019-08-02 06:53:05+00:00  09ee977e-c04e-4db1-98bf-b507b123423c   \n",
       "51459  2019-11-05 08:05:04+00:00  b253485f-535c-4554-ba4e-9c2c7093b8cc   \n",
       "\n",
       "        diesel     e5    e10  \n",
       "36871    2.458  2.918  2.878  \n",
       "30833    8.888  1.469  1.449  \n",
       "33012    8.888  1.429  1.409  \n",
       "55772    8.888  1.459  1.439  \n",
       "8513     1.979  1.239  1.219  \n",
       "116369   1.999  1.339  1.319  \n",
       "181207   1.999  1.399  1.379  \n",
       "46421    1.999  1.399  1.379  \n",
       "51459    1.779  1.339  1.319  "
      ]
     },
     "execution_count": 20,
     "metadata": {},
     "output_type": "execute_result"
    }
   ],
   "source": [
    "prices_pd[prices_pd.diesel > 1.7]"
   ]
  },
  {
   "cell_type": "code",
   "execution_count": 21,
   "metadata": {},
   "outputs": [
    {
     "data": {
      "text/html": [
       "<div>\n",
       "<style scoped>\n",
       "    .dataframe tbody tr th:only-of-type {\n",
       "        vertical-align: middle;\n",
       "    }\n",
       "\n",
       "    .dataframe tbody tr th {\n",
       "        vertical-align: top;\n",
       "    }\n",
       "\n",
       "    .dataframe thead th {\n",
       "        text-align: right;\n",
       "    }\n",
       "</style>\n",
       "<table border=\"1\" class=\"dataframe\">\n",
       "  <thead>\n",
       "    <tr style=\"text-align: right;\">\n",
       "      <th></th>\n",
       "      <th>date</th>\n",
       "      <th>station_uuid</th>\n",
       "      <th>diesel</th>\n",
       "      <th>e5</th>\n",
       "      <th>e10</th>\n",
       "    </tr>\n",
       "  </thead>\n",
       "  <tbody>\n",
       "    <tr>\n",
       "      <th>36871</th>\n",
       "      <td>2015-04-26 12:46:01+00:00</td>\n",
       "      <td>005056ba-7cb6-1ed2-bceb-7e82e4910d2a</td>\n",
       "      <td>2.458</td>\n",
       "      <td>2.918</td>\n",
       "      <td>2.878</td>\n",
       "    </tr>\n",
       "  </tbody>\n",
       "</table>\n",
       "</div>"
      ],
      "text/plain": [
       "                           date                          station_uuid  diesel  \\\n",
       "36871 2015-04-26 12:46:01+00:00  005056ba-7cb6-1ed2-bceb-7e82e4910d2a   2.458   \n",
       "\n",
       "          e5    e10  \n",
       "36871  2.918  2.878  "
      ]
     },
     "execution_count": 21,
     "metadata": {},
     "output_type": "execute_result"
    }
   ],
   "source": [
    "prices_pd[prices_pd.e10 > 1.75]"
   ]
  },
  {
   "cell_type": "code",
   "execution_count": 22,
   "metadata": {},
   "outputs": [
    {
     "data": {
      "text/html": [
       "<div>\n",
       "<style scoped>\n",
       "    .dataframe tbody tr th:only-of-type {\n",
       "        vertical-align: middle;\n",
       "    }\n",
       "\n",
       "    .dataframe tbody tr th {\n",
       "        vertical-align: top;\n",
       "    }\n",
       "\n",
       "    .dataframe thead th {\n",
       "        text-align: right;\n",
       "    }\n",
       "</style>\n",
       "<table border=\"1\" class=\"dataframe\">\n",
       "  <thead>\n",
       "    <tr style=\"text-align: right;\">\n",
       "      <th></th>\n",
       "      <th>date</th>\n",
       "      <th>station_uuid</th>\n",
       "      <th>diesel</th>\n",
       "      <th>e5</th>\n",
       "      <th>e10</th>\n",
       "    </tr>\n",
       "  </thead>\n",
       "  <tbody>\n",
       "    <tr>\n",
       "      <th>36871</th>\n",
       "      <td>2015-04-26 12:46:01+00:00</td>\n",
       "      <td>005056ba-7cb6-1ed2-bceb-7e82e4910d2a</td>\n",
       "      <td>2.458</td>\n",
       "      <td>2.918</td>\n",
       "      <td>2.878</td>\n",
       "    </tr>\n",
       "    <tr>\n",
       "      <th>43036</th>\n",
       "      <td>2016-03-24 09:47:02+00:00</td>\n",
       "      <td>09ee977e-c04e-4db1-98bf-b507b123423c</td>\n",
       "      <td>0.969</td>\n",
       "      <td>1.889</td>\n",
       "      <td>1.169</td>\n",
       "    </tr>\n",
       "  </tbody>\n",
       "</table>\n",
       "</div>"
      ],
      "text/plain": [
       "                           date                          station_uuid  diesel  \\\n",
       "36871 2015-04-26 12:46:01+00:00  005056ba-7cb6-1ed2-bceb-7e82e4910d2a   2.458   \n",
       "43036 2016-03-24 09:47:02+00:00  09ee977e-c04e-4db1-98bf-b507b123423c   0.969   \n",
       "\n",
       "          e5    e10  \n",
       "36871  2.918  2.878  \n",
       "43036  1.889  1.169  "
      ]
     },
     "execution_count": 22,
     "metadata": {},
     "output_type": "execute_result"
    }
   ],
   "source": [
    "prices_pd[prices_pd.e5 > 1.82]"
   ]
  },
  {
   "cell_type": "code",
   "execution_count": 23,
   "metadata": {},
   "outputs": [],
   "source": [
    "prices_pd['diesel'] = prices_pd['diesel'].apply(lambda x: np.nan if x > 1.7 else x)\n",
    "prices_pd['e10'] = prices_pd['e10'].apply(lambda x: np.nan if x > 1.75 else x)\n",
    "prices_pd['e5'] = prices_pd['e5'].apply(lambda x: np.nan if x > 1.82 else x)"
   ]
  },
  {
   "cell_type": "code",
   "execution_count": 24,
   "metadata": {},
   "outputs": [
    {
     "data": {
      "text/plain": [
       "date                0\n",
       "station_uuid        0\n",
       "diesel           1120\n",
       "e5               2891\n",
       "e10             23271\n",
       "dtype: int64"
      ]
     },
     "execution_count": 24,
     "metadata": {},
     "output_type": "execute_result"
    }
   ],
   "source": [
    "prices_pd.isna().sum()"
   ]
  },
  {
   "cell_type": "code",
   "execution_count": 25,
   "metadata": {},
   "outputs": [],
   "source": [
    "#drop all rows where all fuel values are NaN\n",
    "prices_pd.dropna(axis=0, how='all', subset=['diesel', 'e5', 'e10'], inplace=True)"
   ]
  },
  {
   "cell_type": "code",
   "execution_count": 26,
   "metadata": {},
   "outputs": [
    {
     "data": {
      "text/plain": [
       "date                0\n",
       "station_uuid        0\n",
       "diesel            948\n",
       "e5               2719\n",
       "e10             23099\n",
       "dtype: int64"
      ]
     },
     "execution_count": 26,
     "metadata": {},
     "output_type": "execute_result"
    }
   ],
   "source": [
    "prices_pd.isna().sum()"
   ]
  },
  {
   "cell_type": "code",
   "execution_count": 27,
   "metadata": {},
   "outputs": [
    {
     "data": {
      "text/html": [
       "<div>\n",
       "<style scoped>\n",
       "    .dataframe tbody tr th:only-of-type {\n",
       "        vertical-align: middle;\n",
       "    }\n",
       "\n",
       "    .dataframe tbody tr th {\n",
       "        vertical-align: top;\n",
       "    }\n",
       "\n",
       "    .dataframe thead th {\n",
       "        text-align: right;\n",
       "    }\n",
       "</style>\n",
       "<table border=\"1\" class=\"dataframe\">\n",
       "  <thead>\n",
       "    <tr style=\"text-align: right;\">\n",
       "      <th></th>\n",
       "      <th>diesel</th>\n",
       "      <th>e5</th>\n",
       "      <th>e10</th>\n",
       "    </tr>\n",
       "  </thead>\n",
       "  <tbody>\n",
       "    <tr>\n",
       "      <th>count</th>\n",
       "      <td>2.676673e+06</td>\n",
       "      <td>2.674902e+06</td>\n",
       "      <td>2.654522e+06</td>\n",
       "    </tr>\n",
       "    <tr>\n",
       "      <th>mean</th>\n",
       "      <td>1.193682e+00</td>\n",
       "      <td>1.387779e+00</td>\n",
       "      <td>1.363561e+00</td>\n",
       "    </tr>\n",
       "    <tr>\n",
       "      <th>std</th>\n",
       "      <td>9.937624e-02</td>\n",
       "      <td>8.482722e-02</td>\n",
       "      <td>8.389405e-02</td>\n",
       "    </tr>\n",
       "    <tr>\n",
       "      <th>min</th>\n",
       "      <td>8.790000e-01</td>\n",
       "      <td>9.090000e-01</td>\n",
       "      <td>1.029000e+00</td>\n",
       "    </tr>\n",
       "    <tr>\n",
       "      <th>25%</th>\n",
       "      <td>1.129000e+00</td>\n",
       "      <td>1.329000e+00</td>\n",
       "      <td>1.309000e+00</td>\n",
       "    </tr>\n",
       "    <tr>\n",
       "      <th>50%</th>\n",
       "      <td>1.199000e+00</td>\n",
       "      <td>1.379000e+00</td>\n",
       "      <td>1.359000e+00</td>\n",
       "    </tr>\n",
       "    <tr>\n",
       "      <th>75%</th>\n",
       "      <td>1.259000e+00</td>\n",
       "      <td>1.449000e+00</td>\n",
       "      <td>1.429000e+00</td>\n",
       "    </tr>\n",
       "    <tr>\n",
       "      <th>max</th>\n",
       "      <td>1.639000e+00</td>\n",
       "      <td>1.819000e+00</td>\n",
       "      <td>1.719000e+00</td>\n",
       "    </tr>\n",
       "  </tbody>\n",
       "</table>\n",
       "</div>"
      ],
      "text/plain": [
       "             diesel            e5           e10\n",
       "count  2.676673e+06  2.674902e+06  2.654522e+06\n",
       "mean   1.193682e+00  1.387779e+00  1.363561e+00\n",
       "std    9.937624e-02  8.482722e-02  8.389405e-02\n",
       "min    8.790000e-01  9.090000e-01  1.029000e+00\n",
       "25%    1.129000e+00  1.329000e+00  1.309000e+00\n",
       "50%    1.199000e+00  1.379000e+00  1.359000e+00\n",
       "75%    1.259000e+00  1.449000e+00  1.429000e+00\n",
       "max    1.639000e+00  1.819000e+00  1.719000e+00"
      ]
     },
     "execution_count": 27,
     "metadata": {},
     "output_type": "execute_result"
    }
   ],
   "source": [
    "prices_pd.describe()"
   ]
  },
  {
   "cell_type": "markdown",
   "metadata": {},
   "source": [
    "Now the data looks homogenous and we can save it to the sqllite database.\n",
    "\n",
    "### Run the next cell only to reduce data set"
   ]
  },
  {
   "cell_type": "code",
   "execution_count": 28,
   "metadata": {},
   "outputs": [],
   "source": [
    "# for reducing the data to upload it in github, i'll choose only 8 stations\n",
    "\n",
    "uuids = ['005056ba-7cb6-1ed2-bceb-82ea369c0d2d', '79fb1f24-bebb-489e-841f-728f9053b555', '51d4b59c-a095-1aa0-e100-80009459e03a', '005056ba-7cb6-1ed2-bceb-a46e32000d3e', \n",
    "         'e43c09b0-5baa-4738-962a-c94388e93c30', '82119d5d-775f-42af-ac56-000d7c91413f', 'e7807347-796f-4aac-997d-07d0c988e109', '5bf85d09-ea6b-4146-b23f-4b902e2e1554']\n",
    "\n",
    "prices_pd = prices_pd[prices_pd['station_uuid'].isin(uuids)][['date', 'station_uuid', 'diesel', 'e5', 'e10']]\n"
   ]
  },
  {
   "cell_type": "markdown",
   "metadata": {},
   "source": [
    "### Save the data to sqllite file, it will overwrite the tables"
   ]
  },
  {
   "cell_type": "code",
   "execution_count": 29,
   "metadata": {},
   "outputs": [],
   "source": [
    "# run this cell only if you read new csv files, it will overwrite the sql file \n",
    "\n",
    "save_data(prices_pd, 'Prices', './Data/prices_40.sql')\n",
    "save_data(stations_pd, 'Stations', './Data/prices_40.sql')"
   ]
  },
  {
   "cell_type": "code",
   "execution_count": null,
   "metadata": {},
   "outputs": [],
   "source": []
  }
 ],
 "metadata": {
  "kernelspec": {
   "display_name": "Python 3",
   "language": "python",
   "name": "python3"
  },
  "language_info": {
   "codemirror_mode": {
    "name": "ipython",
    "version": 3
   },
   "file_extension": ".py",
   "mimetype": "text/x-python",
   "name": "python",
   "nbconvert_exporter": "python",
   "pygments_lexer": "ipython3",
   "version": "3.7.5"
  }
 },
 "nbformat": 4,
 "nbformat_minor": 4
}
